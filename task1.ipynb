import numpy as np
import matplotlib.pyplot as plt
import seaborn as sns
import pandas as pd
%matplotlib inline
from matplotlib import style
from sklearn.datasets import load_iris
import pandas as pd

# Load the Iris dataset
iris = load_iris()

# Create a DataFrame using pandas
iris_df = pd.DataFrame(data=iris.data, columns=iris.feature_names)
iris_df['Species'] = iris.target_names[iris.target]
style.use('dark_background')

## Supress warnings
import warnings
warnings.filterwarnings("ignore")
     
Now, loading dataset given in task pdf into notebook


iris_df =pd.read_csv('/content/Iris.csv')
print("The dataset is fetched successfully")
     
The dataset is fetched successfully

iris_df
     
Id	SepalLengthCm	SepalWidthCm	PetalLengthCm	PetalWidthCm	Species
0	1	5.1	3.5	1.4	0.2	Iris-setosa
1	2	4.9	3.0	1.4	0.2	Iris-setosa
2	3	4.7	3.2	1.3	0.2	Iris-setosa
3	4	4.6	3.1	1.5	0.2	Iris-setosa
4	5	5.0	3.6	1.4	0.2	Iris-setosa
...	...	...	...	...	...	...
145	146	6.7	3.0	5.2	2.3	Iris-virginica
146	147	6.3	2.5	5.0	1.9	Iris-virginica
147	148	6.5	3.0	5.2	2.0	Iris-virginica
148	149	6.2	3.4	5.4	2.3	Iris-virginica
149	150	5.9	3.0	5.1	1.8	Iris-virginica
150 rows × 6 columns

Data Exploration


#check shape of data
iris_df.shape
     
(150, 6)

#check basic information of data
iris_df.info()

     
<class 'pandas.core.frame.DataFrame'>
RangeIndex: 150 entries, 0 to 149
Data columns (total 6 columns):
 #   Column         Non-Null Count  Dtype  
---  ------         --------------  -----  
 0   Id             150 non-null    int64  
 1   SepalLengthCm  150 non-null    float64
 2   SepalWidthCm   150 non-null    float64
 3   PetalLengthCm  150 non-null    float64
 4   PetalWidthCm   150 non-null    float64
 5   Species        150 non-null    object 
dtypes: float64(4), int64(1), object(1)
memory usage: 7.2+ KB

#check statistical summary of data
iris_df.describe()
     
Id	SepalLengthCm	SepalWidthCm	PetalLengthCm	PetalWidthCm
count	150.000000	150.000000	150.000000	150.000000	150.000000
mean	75.500000	5.843333	3.054000	3.758667	1.198667
std	43.445368	0.828066	0.433594	1.764420	0.763161
min	1.000000	4.300000	2.000000	1.000000	0.100000
25%	38.250000	5.100000	2.800000	1.600000	0.300000
50%	75.500000	5.800000	3.000000	4.350000	1.300000
75%	112.750000	6.400000	3.300000	5.100000	1.800000
max	150.000000	7.900000	4.400000	6.900000	2.500000
Distributions




2-d distributions




Values





#check null values
iris_df.isnull().sum()
     
Id               0
SepalLengthCm    0
SepalWidthCm     0
PetalLengthCm    0
PetalWidthCm     0
Species          0
dtype: int64

print("unique number of values in dataset species:",iris_df["Species"].nunique())
print("Unique Species in iris dataset:",iris_df["Species"].unique())
     
unique number of values in dataset species: 3
Unique Species in iris dataset: ['Iris-setosa' 'Iris-versicolor' 'Iris-virginica']
There are 3 species in iris dataset that is 'Iris-setosa', 'Iris-versicolor', 'Iris-virginica'.
Exploratorty Data Analysis

                  ***Data Visualization***

sns.pairplot(iris_df, hue = "Species",markers = "x")
plt.show()
     

It shows that Iris-Setosa is seperated from both other species in all features..

plt.figure(figsize=(15,5))
plt.subplot(1,2,1)
sns.scatterplot(x='SepalLengthCm',y='PetalLengthCm',data=iris_df,hue='Species')

plt.subplot(1,2,2)
sns.scatterplot(x='SepalWidthCm',y='PetalWidthCm',data=iris_df,hue='Species')

plt.show()
     


#Check correlation in Dataset
iris_df.corr()
     
<ipython-input-30-915237614d1d>:2: FutureWarning: The default value of numeric_only in DataFrame.corr is deprecated. In a future version, it will default to False. Select only valid columns or specify the value of numeric_only to silence this warning.
  iris_df.corr()
Id	SepalLengthCm	SepalWidthCm	PetalLengthCm	PetalWidthCm
Id	1.000000	0.716676	-0.397729	0.882747	0.899759
SepalLengthCm	0.716676	1.000000	-0.109369	0.871754	0.817954
SepalWidthCm	-0.397729	-0.109369	1.000000	-0.420516	-0.356544
PetalLengthCm	0.882747	0.871754	-0.420516	1.000000	0.962757
PetalWidthCm	0.899759	0.817954	-0.356544	0.962757	1.000000
Distributions




Categorical distributions

2-d distributions




Values




Faceted distributions





#Use Heatmap to see correlation
plt.figure(figsize=(10,7))
sns.heatmap(iris_df.corr(),annot = True,cmap = "Oranges_r")
plt.show()
     
<ipython-input-31-0caed54bf922>:3: FutureWarning: The default value of numeric_only in DataFrame.corr is deprecated. In a future version, it will default to False. Select only valid columns or specify the value of numeric_only to silence this warning.
  sns.heatmap(iris_df.corr(),annot = True,cmap = "Oranges_r")

In the above heatmap we can see petal length and petal width is highly correlated.

#Check value counts
iris_df["Species"].value_counts().plot(kind="pie",autopct = "%1.1f%%",shadow=True, figsize=(5,5))
plt.title("Percentage values in each Species", fontsize = 12 , c = "g")
plt.ylabel("",fontsize=10,c="r")
plt.show()
     

We can see all the species has equal values in dataset
Iris-Setosa:50
Iris-Versicolor:50
Iris-Virginica:50

sns.jointplot(data = iris_df , x = "SepalLengthCm", y = "SepalWidthCm" , size = 7 , hue = "Species")

plt.show()
     


sns.jointplot(data = iris_df , x = "PetalLengthCm", y = "PetalWidthCm" , size = 7 , hue = "Species")

plt.show()
     


print(iris_df.columns)

import matplotlib.pyplot as plt
import seaborn as sns

plt.figure(figsize=(15, 5))

plt.subplot(2, 2, 1)
sns.barplot(x="Species", y="sepal length (cm)", data=iris_df, palette="coolwarm")
plt.title("Bar plot SepalLengthCm Vs Species")

plt.subplot(2, 2, 2)
sns.boxplot(x="Species", y="sepal length (cm)", data=iris_df, palette="coolwarm")
plt.title("Box plot SepalLengthCm Vs Species")

plt.subplot(2, 2, 3)
sns.barplot(x="Species", y="sepal length (cm)", data=iris_df, palette="coolwarm")
plt.title("Bar plot SepalLengthCm Vs Species")

plt.subplot(2, 2, 4)
sns.boxplot(x="Species", y="sepal length (cm)", data=iris_df, palette="coolwarm")
plt.title("Box plot SepalLengthCm Vs Species")

plt.show()

# plt.figure(figsize = (15,5))
# plt.subplot(2,2,1)
# sns.barplot(x = "Species",y = "SepalLengthcm", data=iris_df, palette=("coolwarm"))
# plt.title("Bar plot SepalLengthcm Vs Species")


# plt.subplot(2,2,2)
# sns.boxplot(x = "Species",y = "SepalLengthcm", data=iris_df, palette=("coolwarm"))
# plt.title("Bax-plot SepalLengthCm Vs Species")


# plt.subplot(2,2,3)
# sns.barplot(x = "Species",y = "SepalLengthCm", data=iris_df, palette=("coolwarm"))
# plt.title("Bar plot SepalLengthcm Vs Species")

# plt.subplot(2,2,4)
# sns.boxplot(x = "Species",y = "SepalLengthcm", data=iris_df, palette=("coolwarm"))
# plt.title("Bax-plot SepalLengthcm Vs Species")

# plt.show()
     
Index(['sepal length (cm)', 'sepal width (cm)', 'petal length (cm)',
       'petal width (cm)', 'Species'],
      dtype='object')
